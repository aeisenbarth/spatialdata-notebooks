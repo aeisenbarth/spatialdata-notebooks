{
 "cells": [
  {
   "cell_type": "code",
   "execution_count": 4,
   "id": "f46cc5d0-03b9-42f8-9c18-e1b139908304",
   "metadata": {},
   "outputs": [
    {
     "data": {
      "text/plain": [
       "0.7401967453747258"
      ]
     },
     "execution_count": 4,
     "metadata": {},
     "output_type": "execute_result"
    }
   ],
   "source": [
    "from numpy.random import default_rng\n",
    "\n",
    "RNG = default_rng()\n",
    "\n",
    "RNG.random()"
   ]
  }
 ],
 "metadata": {
  "kernelspec": {
   "display_name": "",
   "name": ""
  },
  "language_info": {
   "name": ""
  }
 },
 "nbformat": 4,
 "nbformat_minor": 5
}
