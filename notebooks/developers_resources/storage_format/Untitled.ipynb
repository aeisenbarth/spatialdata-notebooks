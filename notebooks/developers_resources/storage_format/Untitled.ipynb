{
 "cells": [
  {
   "cell_type": "code",
   "execution_count": 4,
   "id": "f46cc5d0-03b9-42f8-9c18-e1b139908304",
   "metadata": {},
   "outputs": [
    {
     "name": "stdout",
     "output_type": "stream",
     "text": [
      "Current Time: 10:49:03.428429\n"
     ]
    },
    {
     "data": {
      "text/plain": [
       "0.15896511033235283"
      ]
     },
     "execution_count": 4,
     "metadata": {},
     "output_type": "execute_result"
    }
   ],
   "source": [
    "from numpy.random import default_rng\n",
    "\n",
    "RNG = default_rng()\n",
    "from datetime import datetime\n",
    "\n",
    "# Get the current time\n",
    "current_time = datetime.now().time()\n",
    "\n",
    "# Print the current time\n",
    "print(\"Current Time:\", current_time)\n",
    "\n",
    "RNG.random()"
   ]
  },
  {
   "cell_type": "code",
   "execution_count": null,
   "id": "3c34b5bc-60cc-481c-b241-da6ed397df0a",
   "metadata": {},
   "outputs": [],
   "source": []
  }
 ],
 "metadata": {
  "kernelspec": {
   "display_name": "Python 3 (ipykernel)",
   "language": "python",
   "name": "python3"
  },
  "language_info": {
   "codemirror_mode": {
    "name": "ipython",
    "version": 3
   },
   "file_extension": ".py",
   "mimetype": "text/x-python",
   "name": "python",
   "nbconvert_exporter": "python",
   "pygments_lexer": "ipython3",
   "version": "3.10.15"
  }
 },
 "nbformat": 4,
 "nbformat_minor": 5
}
