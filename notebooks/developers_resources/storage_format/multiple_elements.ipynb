{
 "cells": [
  {
   "cell_type": "markdown",
   "id": "0",
   "metadata": {},
   "source": [
    "# Scope and description"
   ]
  },
  {
   "cell_type": "markdown",
   "id": "1",
   "metadata": {},
   "source": [
    "The data created by this notebook is an enriched version of the [`blobs` dataset](https://spatialdata.scverse.org/en/latest/generated/spatialdata.datasets.blobs.html).\n",
    "\n",
    "Elements contained:\n",
    "- 2D single-scale image (cyx);\n",
    "- 2D multi-scale image (cyx);\n",
    "- 2D single-scale labels (yx);\n",
    "- 2D multi-scale labels (yx);\n",
    "- 2D points;\n",
    "- circles;\n",
    "- polygons;\n",
    "- multipolygons.\n",
    "\n",
    "Annotations contained:\n",
    "- table annotating the 2D labels.\n",
    "\n",
    "Also the following is contained:\n",
    "- `Identity`, `Scale`, `Translation`, `Affine`, `Sequence` transformations (for the `blobs_labels` element. Each transformation maps to a different coordinate system.\n",
    "\n",
    "Note, this object is not meant to contain everything, example of features that are not covered by this notebook are:\n",
    "- 3D images, labels, points\n",
    "- table annotating multiple elements\n",
    "- multiple tables\n",
    "- dataframe elements containing annotation columns (we only have elements containing spatial information)"
   ]
  },
  {
   "cell_type": "markdown",
   "id": "2",
   "metadata": {},
   "source": [
    "# Prepare the data"
   ]
  },
  {
   "cell_type": "code",
   "execution_count": null,
   "id": "3",
   "metadata": {},
   "outputs": [],
   "source": [
    "%load_ext jupyter_black"
   ]
  },
  {
   "cell_type": "code",
   "execution_count": null,
   "id": "4",
   "metadata": {},
   "outputs": [],
   "source": [
    "import warnings\n",
    "\n",
    "# warnings clutter the diffs of notebooks\n",
    "warnings.filterwarnings(\"ignore\")"
   ]
  },
  {
   "cell_type": "code",
   "execution_count": null,
   "id": "5",
   "metadata": {},
   "outputs": [],
   "source": [
    "NAME = \"multiple_elements\""
   ]
  },
  {
   "cell_type": "code",
   "execution_count": null,
   "id": "6",
   "metadata": {},
   "outputs": [],
   "source": [
    "import spatialdata as sd\n",
    "import spatialdata_plot\n",
    "from io_utils import delete_old_data, write_sdata_and_check_consistency\n",
    "from spatialdata.datasets import blobs\n",
    "\n",
    "delete_old_data(name=NAME)\n",
    "sdata = blobs(length=64)\n",
    "sdata"
   ]
  },
  {
   "cell_type": "code",
   "execution_count": null,
   "id": "7",
   "metadata": {},
   "outputs": [],
   "source": [
    "from spatialdata.transformations import (\n",
    "    Affine,\n",
    "    Identity,\n",
    "    Scale,\n",
    "    Sequence,\n",
    "    Translation,\n",
    "    get_transformation,\n",
    "    set_transformation,\n",
    ")"
   ]
  },
  {
   "cell_type": "markdown",
   "id": "8",
   "metadata": {},
   "source": [
    "There is already a default coordinate system, called `global`, which is mapped using the `Identity` transformation."
   ]
  },
  {
   "cell_type": "code",
   "execution_count": null,
   "id": "9",
   "metadata": {},
   "outputs": [],
   "source": [
    "get_transformation(sdata[\"blobs_labels\"], get_all=True)"
   ]
  },
  {
   "cell_type": "markdown",
   "id": "10",
   "metadata": {},
   "source": [
    "Let's now add a coordinate system for each other transformation."
   ]
  },
  {
   "cell_type": "code",
   "execution_count": null,
   "id": "11",
   "metadata": {},
   "outputs": [],
   "source": [
    "scale = Scale([2, 3], axes=(\"x\", \"y\"))\n",
    "translation = Translation([10, -50], axes=(\"x\", \"y\"))\n",
    "\n",
    "transformations = {\n",
    "    \"global\": Identity(),\n",
    "    \"scale\": scale,\n",
    "    \"translation\": translation,\n",
    "    \"affine\": Affine([[10, 20, 30], [40, 50, 60], [0, 0, 1]], input_axes=(\"x\", \"y\"), output_axes=(\"x\", \"y\")),\n",
    "    \"sequence\": Sequence([scale, translation]),\n",
    "}\n",
    "set_transformation(sdata[\"blobs_labels\"], transformations, set_all=True)"
   ]
  },
  {
   "cell_type": "markdown",
   "id": "12",
   "metadata": {},
   "source": [
    "# Read-write and IO validation"
   ]
  },
  {
   "cell_type": "code",
   "execution_count": null,
   "id": "13",
   "metadata": {},
   "outputs": [],
   "source": [
    "import logging\n",
    "\n",
    "logging.getLogger(\"ome_zarr\").setLevel(logging.ERROR)\n",
    "\n",
    "write_sdata_and_check_consistency(sdata=sdata, name=NAME)"
   ]
  },
  {
   "cell_type": "markdown",
   "id": "14",
   "metadata": {},
   "source": [
    "# Plot the data"
   ]
  },
  {
   "cell_type": "markdown",
   "id": "15",
   "metadata": {},
   "source": [
    "## Single scale images, single scale labels, points"
   ]
  },
  {
   "cell_type": "code",
   "execution_count": null,
   "id": "16",
   "metadata": {},
   "outputs": [],
   "source": [
    "sdata.pl.render_images(\"blobs_image\").pl.render_labels(\"blobs_labels\").pl.render_points(\n",
    "    \"blobs_points\", na_color=\"w\"\n",
    ").pl.show(coordinate_systems=\"global\")"
   ]
  },
  {
   "cell_type": "markdown",
   "id": "17",
   "metadata": {},
   "source": [
    "## Labels for each coordinate system"
   ]
  },
  {
   "cell_type": "code",
   "execution_count": null,
   "id": "18",
   "metadata": {},
   "outputs": [],
   "source": [
    "# we specify the coordinate systems otherwise the order is not deterministic\n",
    "sdata.pl.render_labels(\"blobs_labels\").pl.show(\n",
    "    coordinate_systems=[\"global\", \"scale\", \"translation\", \"affine\", \"sequence\"]\n",
    ")"
   ]
  },
  {
   "cell_type": "markdown",
   "id": "19",
   "metadata": {},
   "source": [
    "## labels data plotted for each coordinate system"
   ]
  },
  {
   "cell_type": "markdown",
   "id": "20",
   "metadata": {},
   "source": [
    "## Lables annoted by the table (var)"
   ]
  },
  {
   "cell_type": "code",
   "execution_count": null,
   "id": "21",
   "metadata": {},
   "outputs": [],
   "source": [
    "sdata[\"table\"].obs"
   ]
  },
  {
   "cell_type": "code",
   "execution_count": null,
   "id": "22",
   "metadata": {},
   "outputs": [],
   "source": [
    "sdata[\"table\"].var_names"
   ]
  },
  {
   "cell_type": "code",
   "execution_count": null,
   "id": "23",
   "metadata": {},
   "outputs": [],
   "source": [
    "sdata.pl.render_labels(\"blobs_labels\", color=\"channel_0_sum\").pl.show(coordinate_systems=\"global\")"
   ]
  },
  {
   "cell_type": "markdown",
   "id": "24",
   "metadata": {},
   "source": [
    "## Shapes: circles, polygons, multipolygons"
   ]
  },
  {
   "cell_type": "code",
   "execution_count": null,
   "id": "25",
   "metadata": {},
   "outputs": [],
   "source": [
    "sdata.pl.render_shapes(\"blobs_circles\", fill_alpha=0.5).pl.show(coordinate_systems=\"global\")"
   ]
  },
  {
   "cell_type": "code",
   "execution_count": null,
   "id": "26",
   "metadata": {},
   "outputs": [],
   "source": [
    "sdata.pl.render_shapes(\"blobs_polygons\").pl.show(coordinate_systems=\"global\")"
   ]
  },
  {
   "cell_type": "code",
   "execution_count": null,
   "id": "27",
   "metadata": {},
   "outputs": [],
   "source": [
    "sdata.pl.render_shapes(\"blobs_multipolygons\").pl.show(coordinate_systems=\"global\")"
   ]
  }
 ],
 "metadata": {
  "kernelspec": {
   "display_name": "Python 3 (ipykernel)",
   "language": "python",
   "name": "python3"
  },
  "language_info": {
   "codemirror_mode": {
    "name": "ipython",
    "version": 3
   },
   "file_extension": ".py",
   "mimetype": "text/x-python",
   "name": "python",
   "nbconvert_exporter": "python",
   "pygments_lexer": "ipython3",
   "version": "3.10.15"
  }
 },
 "nbformat": 4,
 "nbformat_minor": 5
}
