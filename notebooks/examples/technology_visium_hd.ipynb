{
 "cells": [
  {
   "cell_type": "markdown",
   "id": "3f0d9a71-f240-4689-a6be-ef0b9f065c69",
   "metadata": {},
   "source": [
    "# Technology focus: Visium HD"
   ]
  },
  {
   "cell_type": "markdown",
   "id": "dc267842-b304-4616-9fb7-70dd05c6c4cb",
   "metadata": {},
   "source": [
    "In this notebook we will present an overview of the plotting functionalities of the `spatialdata` framework, in the context of a Visium HD dataset."
   ]
  },
  {
   "cell_type": "markdown",
   "id": "aeab8be8-097f-4c8f-9e0c-2d13fcd15200",
   "metadata": {},
   "source": [
    "## Challenges in plotting the data\n",
    "\n",
    "Before showing the code, here is are some short considerations on the challenges that arise when handling and plotting Visium HD data, and how we provide methods to address them within the `spatialdata` framework.\n",
    "\n",
    "### Data dimensions\n",
    "\n",
    "Let's first have a quick recap of the data dimensions on hand.\n",
    "- The Visium HD capture location area is 6.5mm x 6.5mm in size.\n",
    "- The smallest capture locations (bins) are 2µm x 2µm, leading to up to around 10.5 millions bins per dataset.\n",
    "- In the current dataset, around 20000 genes are considered.\n",
    "- In the current dataset, only around 5.5 millions of the bins are actually covering parts of the tissue where gene expression is detected.\n",
    "\n",
    "### Raster vs vector data representation\n",
    "\n",
    "The bins are arranged in a 3250 x 3250 regular grid, so a natural way to represent the data would as an image. Nevertheless, due to large number of genes (and the data sparsity), using a purely raster representation is not feasible.\n",
    "In fact, assuming using a `uint8` data type (1 byte) for recording, for each bin, a number from 0 to 255, rasterizing the full data would require 3250 x 3250 x 19059 = 187 GBs!\n",
    "\n",
    "A more memory-efficient approach, that we implemented, is to decouple the spatial locations and the gene expression information:\n",
    "- spatial locations are represented as vector geometries (circles) and are at most around 10.5 millions;\n",
    "- gene expression information is stored as a `AnnData` table with sparse compressed representation (compressed sparse rows); in this dataset there are around 130 millions non-zero entries.\n",
    "\n",
    "For the current dataset, assuming 1 byte per table entry, this would require around 130 MB of memory, much less than the upper limit 187 GB.\n",
    "\n",
    "### The data representation is flexible\n",
    "\n",
    "As we said above, we represent Visium HD data as a combination of circles and `AnnData` tables with a compressed sprase rows matrix. Nevertheless, there are cases where the user may have specific need for a data representation over the other; here is a list of examples of what `spaitaldata` offers.\n",
    "\n",
    "- The compressed sparse rows matrix representation is efficient to access all the genes expressed in a particular bin; there are cases where one wants to go the other way around, and efficiently access all the locations expressing a particular gene. The `AnnData` API `tocsc()` allow to switch to a compressed sparse column repreentation.\n",
    "- Plotting squares vs circles. Using squares is more accurate than using circles when plotting, as this reflects the shape of the catpure area; nevertheless, it is more performant to plot circles, reason why we adopt them by default. In this notebook we show how it is easy to switch between circles and squares. We use squares to plot \"zoomed\" version of the data.\n",
    "- Raster vs vector representation. We explained above that a fully rasterized version of the data is not memory efficient; nevertheless if the user just want to visualize a small number of genes, the memory impact would be small. In such case, visualizing with raster objects is generally much more performant than visualizing shapes geometries. Thanks to the function `rasterize_bins()`, we can construct a lazy image that computes a rasterization on-demand, bridging the benefit of our lightweight vector data representationa and in-memory raster representation. As we will expain, the `rasterize_bins()` procudes a raster image that is aware of the coordinate transformations, so, no matter the bin size considered, the data is always aligned together with the high-resolution H&E image.\n",
    "\n",
    "We will show all of this below."
   ]
  },
  {
   "cell_type": "code",
   "execution_count": 1,
   "id": "4c059777-0354-4ed7-a848-14e442ca34af",
   "metadata": {},
   "outputs": [
    {
     "data": {
      "text/html": [
       "\n",
       "                <script type=\"application/javascript\" id=\"jupyter_black\">\n",
       "                (function() {\n",
       "                    if (window.IPython === undefined) {\n",
       "                        return\n",
       "                    }\n",
       "                    var msg = \"WARNING: it looks like you might have loaded \" +\n",
       "                        \"jupyter_black in a non-lab notebook with \" +\n",
       "                        \"`is_lab=True`. Please double check, and if \" +\n",
       "                        \"loading with `%load_ext` please review the README!\"\n",
       "                    console.log(msg)\n",
       "                    alert(msg)\n",
       "                })()\n",
       "                </script>\n",
       "                "
      ],
      "text/plain": [
       "<IPython.core.display.HTML object>"
      ]
     },
     "metadata": {},
     "output_type": "display_data"
    }
   ],
   "source": [
    "%load_ext jupyter_black\n",
    "%load_ext autoreload\n",
    "%autoreload 2"
   ]
  },
  {
   "cell_type": "markdown",
   "id": "0ef07784-a866-481b-a484-beeb19a034d1",
   "metadata": {},
   "source": [
    "## Loading the data"
   ]
  },
  {
   "cell_type": "markdown",
   "id": "5c52d4d2-3c7a-4586-9946-cbe5dd83c9f8",
   "metadata": {},
   "source": [
    "A reader for Visium HD data is available in `spatialdata-io`. We used it to parse and convert to Zarr a [Visium HD dataset of a Mouse Small Intestine (FFPE)](https://www.10xgenomics.com/datasets/visium-hd-cytassist-gene-expression-libraries-of-mouse-intestine).\n",
    "\n",
    "We provide the already-converted Zarr data [available for download here](https://s3.embl.de/spatialdata/spatialdata-sandbox/visium_hd_3.0.0_io.zip).\n",
    "\n",
    "Please download the data, rename the `.zarr` store to `visium_hd.zarr` and place it in the current folder (in alterantive you can use symlinks to make the data visible)."
   ]
  },
  {
   "cell_type": "code",
   "execution_count": 2,
   "id": "3f1bd970-13dc-444b-ae61-6d9bf844de4b",
   "metadata": {},
   "outputs": [],
   "source": [
    "visium_hd_zarr_path = \"./visium_hd.zarr\""
   ]
  },
  {
   "cell_type": "markdown",
   "id": "3113fee0-dcd1-47a3-bc16-885b144e3473",
   "metadata": {},
   "source": [
    "A note on data loading. The data requires ~10 seconds to load because, while we support lazy representation of images, labels and points, the shapes geometries and the annotation tables are currently not represented lazily. This is one of the first spatial omics datasets which reaches a scale for which this is required. We will make a new release to allow for lazy representation also of these data types."
   ]
  },
  {
   "cell_type": "code",
   "execution_count": null,
   "id": "af93b905-28fb-4167-b765-059c148ca3bc",
   "metadata": {},
   "outputs": [],
   "source": [
    "%%time\n",
    "import spatialdata as sd\n",
    "\n",
    "sdata = sd.read_zarr(visium_hd_zarr_path)\n",
    "sdata"
   ]
  },
  {
   "cell_type": "markdown",
   "id": "7d4231e0-fe3b-4ae9-bfaa-8a95c424748c",
   "metadata": {},
   "source": [
    "The datasets contains 1 large microscopy image, represented as a multiscale, chunked image; two explicit downscaled versions of it and one CytAssist image.\n",
    "\n",
    "Also, the image dataset contains the data at the highest resolution (2µm bins), and 2 downsampled (binned) versions of it, which have respectively bin sizes of 8µm and 16µm."
   ]
  },
  {
   "cell_type": "code",
   "execution_count": null,
   "id": "4f548a36-14e1-4055-b738-20b3be502bb1",
   "metadata": {},
   "outputs": [],
   "source": [
    "# let's make the var names unique, this improves performance in accessing the tabular data\n",
    "for table in sdata.tables.values():\n",
    "    table.var_names_make_unique()"
   ]
  },
  {
   "cell_type": "markdown",
   "id": "6e61f5bd-4a7b-4d03-a2d4-b1e6023ab46a",
   "metadata": {},
   "source": [
    "## Plotting the images"
   ]
  },
  {
   "cell_type": "markdown",
   "id": "e8a3e9c8-f229-4692-8bde-a9abfb5fd55c",
   "metadata": {},
   "source": [
    "Let's visualize the images."
   ]
  },
  {
   "cell_type": "code",
   "execution_count": null,
   "id": "88f696a8-4761-4bd0-b1f0-1b16edcdf726",
   "metadata": {},
   "outputs": [],
   "source": [
    "import matplotlib.pyplot as plt\n",
    "import spatialdata_plot\n",
    "\n",
    "axes = plt.subplots(1, 2, figsize=(10, 5))[1].flatten()\n",
    "sdata.pl.render_images(\"Visium_HD_Mouse_Small_Intestine_full_image\").pl.show(ax=axes[0], title=\"Full image\")\n",
    "sdata.pl.render_images(\"Visium_HD_Mouse_Small_Intestine_cytassist_image\").pl.show(ax=axes[1], title=\"CytAssit image\")"
   ]
  },
  {
   "cell_type": "markdown",
   "id": "c3e55c75-e967-477d-9a56-eef4433ae311",
   "metadata": {},
   "source": [
    "Let's plot the same range for the 2 images; to achieve this we first compute the extent of the first image with `spatialdata.get_extent()` and then crop the second data using the `spatialdata` query APIs.\n",
    "\n",
    "Please note that setting the plotting lim (`ax.set_xlim()`, ...) after plotting may lead to lower image quality because the data is plotted at the optimal resolution for the full extent but then a portion of it is zoomed in."
   ]
  },
  {
   "cell_type": "code",
   "execution_count": null,
   "id": "9ef57701-7920-49ef-a2d6-fed3457289c8",
   "metadata": {},
   "outputs": [],
   "source": [
    "from spatialdata import get_extent\n",
    "\n",
    "data_extent = get_extent(sdata[\"Visium_HD_Mouse_Small_Intestine_full_image\"], coordinate_system=\"global\")\n",
    "data_extent"
   ]
  },
  {
   "cell_type": "code",
   "execution_count": null,
   "id": "c0157c6a-8b5a-4f83-bcd8-069ce45ee5fc",
   "metadata": {},
   "outputs": [],
   "source": [
    "from spatialdata import bounding_box_query\n",
    "\n",
    "queried_cytassist = bounding_box_query(\n",
    "    sdata[\"Visium_HD_Mouse_Small_Intestine_cytassist_image\"],\n",
    "    min_coordinate=[data_extent[\"x\"][0], data_extent[\"y\"][0]],\n",
    "    max_coordinate=[data_extent[\"x\"][1], data_extent[\"y\"][1]],\n",
    "    axes=(\"x\", \"y\"),\n",
    "    target_coordinate_system=\"global\",\n",
    ")\n",
    "sdata[\"queried_cytassist\"] = queried_cytassist"
   ]
  },
  {
   "cell_type": "code",
   "execution_count": null,
   "id": "178cb07a-6f8c-4fc3-9bb6-9447490d031a",
   "metadata": {},
   "outputs": [],
   "source": [
    "axes = plt.subplots(1, 2, figsize=(10, 5))[1].flatten()\n",
    "sdata.pl.render_images(\"Visium_HD_Mouse_Small_Intestine_full_image\").pl.show(ax=axes[0], title=\"Full image\")\n",
    "sdata.pl.render_images(\"queried_cytassist\").pl.show(ax=axes[1], title=\"CytAssit image\")"
   ]
  },
  {
   "cell_type": "markdown",
   "id": "f2968e3c-2b4f-4a17-9497-ce252d25557c",
   "metadata": {},
   "source": [
    "Let's focus the visualization on a smaller region, so we can appreciate better resolution of the first image. Here we create cropped version of the `SpatialData` objects on-the-fly using an anonymous function."
   ]
  },
  {
   "cell_type": "code",
   "execution_count": null,
   "id": "426bcaca-903c-418e-8b37-721ec20e89b6",
   "metadata": {},
   "outputs": [],
   "source": [
    "axes = plt.subplots(1, 2, figsize=(10, 5))[1].flatten()\n",
    "crop0 = lambda x: bounding_box_query(\n",
    "    x, min_coordinate=[5000, 8000], max_coordinate=[10000, 13000], axes=(\"x\", \"y\"), target_coordinate_system=\"global\"\n",
    ")\n",
    "crop0(sdata).pl.render_images(\"Visium_HD_Mouse_Small_Intestine_full_image\").pl.show(\n",
    "    ax=axes[0], title=\"Full image\", coordinate_systems=\"global\"\n",
    ")\n",
    "crop0(sdata).pl.render_images(\"queried_cytassist\").pl.show(\n",
    "    ax=axes[1], title=\"CytAssit image\", coordinate_systems=\"global\"\n",
    ")"
   ]
  },
  {
   "cell_type": "markdown",
   "id": "292a3bbd-8ed5-4a88-8a75-437896f57d65",
   "metadata": {},
   "source": [
    "## Plotting the gene expression data"
   ]
  },
  {
   "cell_type": "markdown",
   "id": "a29c379b-510c-4477-b744-6b3d959a4762",
   "metadata": {},
   "source": [
    "### Plotting the geometries"
   ]
  },
  {
   "cell_type": "markdown",
   "id": "2470a6eb-783b-45e4-ab78-0699f245dc30",
   "metadata": {},
   "source": [
    "Let's plot the bins colored by gene expression. For the moment we will use the largest bin size. Later in the notebook we will make plots using the two smaller bin sizes on a cropped version of the data. \n",
    "\n",
    "We will first plots the data as they are natively represented (circles), then show how to efficiently plot a rasterized version using `rasterize_bins()`."
   ]
  },
  {
   "cell_type": "code",
   "execution_count": null,
   "id": "4956be7e-2cbe-49a9-b61e-024d309d574c",
   "metadata": {},
   "outputs": [],
   "source": [
    "%%time\n",
    "plt.figure(figsize=(10, 10))\n",
    "ax = plt.gca()\n",
    "\n",
    "gene_name = \"AA986860\"\n",
    "# let's use method='matplotlib' to disable the default 'datashader' plotting since here we want to showcase the vector\n",
    "# visualization. Slso datashader plots a rasterized version of the data that is not aware of the grid-like structure\n",
    "# of the data, and therefore is not optimized for Visium HD data. For the optimized version we will show the usage of\n",
    "# `rasterize_bins()` later.\n",
    "sdata.pl.render_shapes(\"Visium_HD_Mouse_Small_Intestine_square_016um\", color=gene_name, method=\"matplotlib\").pl.show(\n",
    "    coordinate_systems=\"global\", ax=ax\n",
    ")"
   ]
  },
  {
   "cell_type": "markdown",
   "id": "0a5fed81-0905-47dc-9d55-a1152222a33b",
   "metadata": {},
   "source": [
    "### Performant on-the-fly data rasterization"
   ]
  },
  {
   "cell_type": "markdown",
   "id": "1b80d068-f9bb-45b2-8729-24fe88b5e1fe",
   "metadata": {},
   "source": [
    "Let's now pre-computed a lazy-rasterized version of the data using `rasterize_bins()`. This operation takes just a few seconds and unlocks very fast on-demand channel-wise rasterization."
   ]
  },
  {
   "cell_type": "code",
   "execution_count": null,
   "id": "7bc79afa-c01e-4d81-9426-b3dd4a0faf71",
   "metadata": {},
   "outputs": [],
   "source": [
    "%%time\n",
    "from spatialdata import rasterize_bins\n",
    "\n",
    "for bin_size in [\"016\", \"008\", \"002\"]:\n",
    "    # rasterize_bins() requires a compresed sparse column (csc) matrix\n",
    "    sdata.tables[f\"square_{bin_size}um\"].X = sdata.tables[f\"square_{bin_size}um\"].X.tocsc()\n",
    "    rasterized = rasterize_bins(\n",
    "        sdata,\n",
    "        f\"Visium_HD_Mouse_Small_Intestine_square_{bin_size}um\",\n",
    "        f\"square_{bin_size}um\",\n",
    "        \"array_col\",\n",
    "        \"array_row\",\n",
    "    )\n",
    "    sdata[f\"rasterized_{bin_size}um\"] = rasterized"
   ]
  },
  {
   "cell_type": "markdown",
   "id": "0464a07a-90e1-4cf3-8a61-b4bc91a75f84",
   "metadata": {},
   "source": [
    "This produces lazy image objects that can be accessed gene-wise extremely efficiently. \n",
    "\n",
    "Importantly, these objects\n",
    "**not** be computed as a whole, because this would lead to the unnecessary computation of hundreds of GB of memory."
   ]
  },
  {
   "cell_type": "code",
   "execution_count": null,
   "id": "f0a80c44-062f-4082-8cc5-25272d8e0320",
   "metadata": {},
   "outputs": [],
   "source": [
    "%%time\n",
    "# this is very fast\n",
    "sdata[\"rasterized_002um\"].sel(c=gene_name).compute()\n",
    "# this must not be called\n",
    "# sdata[\"rasterized_002um\"].compute()"
   ]
  },
  {
   "cell_type": "markdown",
   "id": "85c5af0b-d082-442b-8ca3-5dcfd8ff543c",
   "metadata": {},
   "source": [
    "Here is an example on how to plot the rasterized data. Please set `scale=\"full\"`, this is essential. If it is not set, `spatialdata-plot` will try\n",
    "to rerasterize the data to fit the canvas size and trying to compute the whole object."
   ]
  },
  {
   "cell_type": "code",
   "execution_count": null,
   "id": "94ae33c7-1181-4655-a994-23494215b74d",
   "metadata": {},
   "outputs": [],
   "source": [
    "%%time\n",
    "plt.figure(figsize=(10, 10))\n",
    "ax = plt.gca()\n",
    "\n",
    "sdata.pl.render_images(\"rasterized_016um\", channel=gene_name, scale=\"full\").pl.show(coordinate_systems=\"global\", ax=ax)"
   ]
  },
  {
   "cell_type": "markdown",
   "id": "dec8bee0-2767-44ca-aabd-9978079506df",
   "metadata": {},
   "source": [
    "As you can see below, we can plot the 2µm bins very performantly, which would not be possible with the `matplotlib` based approach shown before."
   ]
  },
  {
   "cell_type": "code",
   "execution_count": null,
   "id": "fdacf979-4fa4-4915-9a44-58bdb5861f21",
   "metadata": {},
   "outputs": [],
   "source": [
    "%%time\n",
    "import numpy as np\n",
    "from matplotlib.colors import LinearSegmentedColormap\n",
    "\n",
    "plt.figure(figsize=(10, 10))\n",
    "ax = plt.gca()\n",
    "\n",
    "# doesn't work due to this bug: https://github.com/scverse/spatialdata-plot/issues/303\n",
    "# sdata.pl.render_images(\n",
    "#     \"rasterized_002um\", channel=gene_name, scale=\"full\", norm=matplotlib.colors.Normalize(vmin=0, vmax=4)\n",
    "# ).pl.show(coordinate_systems=\"global\", ax=ax)\n",
    "\n",
    "# \"flag\" is a qualitative colormap that should not be used for anlaysis, here it's use to showcase the\n",
    "# performance of plotting the rasterized data, viridis will be used as soon as the above bug is\n",
    "# addressed\n",
    "sdata.pl.render_images(\"rasterized_002um\", channel=gene_name, scale=\"full\", cmap=\"flag\").pl.show(\n",
    "    coordinate_systems=\"global\", ax=ax\n",
    ")"
   ]
  },
  {
   "cell_type": "markdown",
   "id": "5e909da0-9eca-48a9-b4fd-8e448eccd265",
   "metadata": {},
   "source": [
    "As a final not on the on-the-fly rasterization approach. Please, by looking at the corners of the last plot, notice how the data is on a grid that is actually sligthly rotated.\n",
    "The advantage of using `rasterize_bins()` is that the produced object contains the coordinate transformations necessary to align (rotation and scale) the rasterized data together\n",
    "with the high-resolution images."
   ]
  },
  {
   "cell_type": "markdown",
   "id": "3ca6cd00-912b-4236-96a6-156fd094e66a",
   "metadata": {},
   "source": [
    "### Plotting subsets of the data"
   ]
  },
  {
   "cell_type": "markdown",
   "id": "4adc0b96-3e23-49c2-818f-26a1fdd56e8e",
   "metadata": {},
   "source": [
    "Let's crop the data and make plots for all the bin sizes."
   ]
  },
  {
   "cell_type": "code",
   "execution_count": null,
   "id": "5ffd4223-8f99-4efb-9393-3946e54f1a92",
   "metadata": {},
   "outputs": [],
   "source": [
    "sdata_small = sdata.query.bounding_box(\n",
    "    min_coordinate=[7000, 11000], max_coordinate=[10000, 14000], axes=(\"x\", \"y\"), target_coordinate_system=\"global\"\n",
    ")"
   ]
  },
  {
   "cell_type": "code",
   "execution_count": null,
   "id": "96961629-93e0-4048-8f66-8d40884a423e",
   "metadata": {},
   "outputs": [],
   "source": [
    "gene_name = \"AA986860\"\n",
    "sdata_small.pl.render_shapes(\"Visium_HD_Mouse_Small_Intestine_square_016um\", color=gene_name).pl.show(\n",
    "    coordinate_systems=\"global\"\n",
    ")"
   ]
  },
  {
   "cell_type": "markdown",
   "id": "a2c0c0cc-e1dc-4ba0-8255-cf7e41968b95",
   "metadata": {},
   "source": [
    "The bins are represented as circles for performance reasons (`matplotlib` is efficient at both plotting circles and squares, but not `napari`). Let's quickly convert the circles to squares."
   ]
  },
  {
   "cell_type": "code",
   "execution_count": null,
   "id": "33423ba6-f003-4754-b86c-60e1195cb039",
   "metadata": {},
   "outputs": [],
   "source": [
    "from geopandas import GeoDataFrame\n",
    "from shapely import Point, Polygon\n",
    "from spatialdata.models import ShapesModel\n",
    "from spatialdata.transformations import get_transformation\n",
    "\n",
    "\n",
    "def square_from_circle(point: Point, r: float) -> Polygon:\n",
    "    x, y = point.xy\n",
    "    x = x[0]\n",
    "    y = y[0]\n",
    "    global rr\n",
    "    rr = r\n",
    "    return Polygon([(x - r, y - r), (x - r, y + r), (x + r, y + r), (x + r, y - r)])\n",
    "\n",
    "\n",
    "# an optimized and more complete version of this function will be available in the spatialdata library in a next release\n",
    "def squares_from_circles(gdf: GeoDataFrame) -> GeoDataFrame:\n",
    "    geoseries = gdf[[\"geometry\", \"radius\"]].apply(lambda row: square_from_circle(row[0], row[1]), axis=1)\n",
    "    squares = GeoDataFrame(geometry=geoseries)\n",
    "    transformations = get_transformation(gdf, get_all=True)\n",
    "    return ShapesModel.parse(squares, transformations=transformations)"
   ]
  },
  {
   "cell_type": "code",
   "execution_count": null,
   "id": "acdd691d-86fc-4ceb-b2f5-ef3cee351a52",
   "metadata": {},
   "outputs": [],
   "source": [
    "for name in list(sdata_small.shapes.keys()):\n",
    "    squares = squares_from_circles(sdata_small[name])\n",
    "    sdata_small[name] = squares"
   ]
  },
  {
   "cell_type": "code",
   "execution_count": null,
   "id": "bd05c2a6-b7db-463c-bd1c-6f635bd0b893",
   "metadata": {},
   "outputs": [],
   "source": [
    "gene_name = \"AA986860\"\n",
    "\n",
    "for bin_size in [16, 8, 2]:\n",
    "    sdata_small.pl.render_shapes(f\"Visium_HD_Mouse_Small_Intestine_square_{bin_size:03}um\", color=gene_name).pl.show(\n",
    "        coordinate_systems=\"global\", title=f\"bin_size={bin_size}µm\", figsize=(10, 10)\n",
    "    )"
   ]
  },
  {
   "cell_type": "markdown",
   "id": "ff1748be-dad2-4d8e-8902-223d854523c6",
   "metadata": {},
   "source": [
    "The data present a lot of sparsity, let's remake the plots above by visualizing only the non-zero entries, and using the full resolution image as a background.\n",
    "\n",
    "We will do this by modifying the viridis colormap so that 0 is plotted as transparent. Let' also truncate the viridis colormap so that the highest value is colored as green and not yellow, since green has a better contrast against the pink of the H&E microscopy image."
   ]
  },
  {
   "cell_type": "code",
   "execution_count": null,
   "id": "297ef713-e91b-43a1-ae40-47536b122893",
   "metadata": {},
   "outputs": [],
   "source": [
    "import matplotlib.pyplot as plt\n",
    "import numpy as np\n",
    "from matplotlib.colors import LinearSegmentedColormap\n",
    "\n",
    "# modify the viridis colormap, so that the top color is a green (better visible on the H&E pink), and such that\n",
    "# the value 0 leads to a transparent color\n",
    "viridis = plt.get_cmap(\"viridis\", 256)\n",
    "# using 0.8 instead of 1.0 truncates the colormap\n",
    "colors = viridis(np.linspace(0, 0.8, 256))\n",
    "# set the color of zero to be transparent\n",
    "colors[0, :] = [1.0, 1.0, 1.0, 0.0]\n",
    "\n",
    "new_cmap = LinearSegmentedColormap.from_list(\"truncated_viridis\", colors)"
   ]
  },
  {
   "cell_type": "code",
   "execution_count": null,
   "id": "b62c1c6b-b58c-4f52-a516-b1e36ed0a0b6",
   "metadata": {},
   "outputs": [],
   "source": [
    "gene_name = \"AA986860\"\n",
    "\n",
    "for bin_size in [16, 8]:\n",
    "    sdata_small.pl.render_images(\"Visium_HD_Mouse_Small_Intestine_full_image\").pl.render_shapes(\n",
    "        f\"Visium_HD_Mouse_Small_Intestine_square_{bin_size:03}um\", color=gene_name, cmap=new_cmap\n",
    "    ).pl.show(coordinate_systems=\"global\", title=f\"bin_size={bin_size}µm\", figsize=(10, 10))"
   ]
  },
  {
   "cell_type": "markdown",
   "id": "2a564800-1646-4e84-a579-497bb4b35699",
   "metadata": {},
   "source": [
    "Let's make a zoomed version of the plot for the 2µm bins, to better visiualize them. Please notice that we pass `method='matplotlib'` as we want to disable the default datashader rasterization, to have control on the colormap."
   ]
  },
  {
   "cell_type": "code",
   "execution_count": null,
   "id": "31a66a54-13ed-489c-805d-dcecfd53959a",
   "metadata": {},
   "outputs": [],
   "source": [
    "crop1 = lambda x: bounding_box_query(\n",
    "    x, min_coordinate=[9000, 11000], max_coordinate=[10000, 12000], axes=(\"x\", \"y\"), target_coordinate_system=\"global\"\n",
    ")\n",
    "crop1(sdata_small).pl.render_images(\"Visium_HD_Mouse_Small_Intestine_full_image\").pl.render_shapes(\n",
    "    \"Visium_HD_Mouse_Small_Intestine_square_002um\", color=gene_name, cmap=new_cmap, method=\"matplotlib\"\n",
    ").pl.show(coordinate_systems=\"global\", title=f\"bin_size=2µm\", figsize=(10, 10))"
   ]
  },
  {
   "cell_type": "markdown",
   "id": "7cbffdcf-a1d2-43fc-b7f9-dd5e2698f4c8",
   "metadata": {},
   "source": [
    "As you can see the 8µm bins are convenient for looking at gene expression distribution from a broad perspective (same for the 16µm bins, where some resolution can be sacrificed in exchange for a faster visualization). On the other hand, the 2µm bins allow to precisely locate the expressed genes in the tissue."
   ]
  },
  {
   "cell_type": "markdown",
   "id": "b19de068-3a80-4c62-9cf4-febec2238383",
   "metadata": {},
   "source": [
    "## Plotting clusters"
   ]
  },
  {
   "cell_type": "markdown",
   "id": "83a83935-2a1f-4466-ac5a-fe3ee03de734",
   "metadata": {},
   "source": [
    "Let's now color the 16µm bins by cluster identity. Let's reuse the clusters `gene_expression_graphclust` computed from 10x Genomics and available together with the raw data from the 10x Genomics website."
   ]
  },
  {
   "cell_type": "code",
   "execution_count": null,
   "id": "8759a687-d74c-4750-807f-f2a363a1aa4d",
   "metadata": {},
   "outputs": [],
   "source": [
    "import os\n",
    "from tempfile import TemporaryDirectory\n",
    "\n",
    "import pandas as pd\n",
    "import requests\n",
    "\n",
    "# For convenience we rehost the single file containing the clusters we are interested in.\n",
    "# Let's download it in a temporary directory and read it in a pandas DataFrame. The file is 2 MB.\n",
    "clusters_file_url = \"https://s3.embl.de/spatialdata/misc/visium_hd_mouse_intestine_16um_graphclust.csv\"\n",
    "\n",
    "with TemporaryDirectory() as tmpdir:\n",
    "    path = os.path.join(tmpdir, \"data.csv\")\n",
    "    response = requests.get(clusters_file_url)\n",
    "    with open(path, \"wb\") as f:\n",
    "        f.write(response.content)\n",
    "    df = pd.read_csv(path)"
   ]
  },
  {
   "cell_type": "code",
   "execution_count": null,
   "id": "455b85fc-69a3-4bf8-9660-ff391a6c9652",
   "metadata": {},
   "outputs": [],
   "source": [
    "df.head(3)"
   ]
  },
  {
   "cell_type": "code",
   "execution_count": null,
   "id": "d8efead2-f57c-4895-bcd6-4730a2ad7a73",
   "metadata": {},
   "outputs": [],
   "source": [
    "# let's convert the Cluster dtype from int64 to categorical since later we want the plots to use a categorical colormap\n",
    "df[\"Cluster\"] = df[\"Cluster\"].astype(\"category\")\n",
    "df.set_index(\"Barcode\", inplace=True)"
   ]
  },
  {
   "cell_type": "code",
   "execution_count": null,
   "id": "178addbb-1146-4fb9-830a-a21cb64355b9",
   "metadata": {},
   "outputs": [],
   "source": [
    "sdata[\"square_016um\"].obs.head(3)"
   ]
  },
  {
   "cell_type": "markdown",
   "id": "660ff217-3061-49c9-a67d-435b592dcf62",
   "metadata": {},
   "source": [
    "Let's merge the data."
   ]
  },
  {
   "cell_type": "code",
   "execution_count": null,
   "id": "1dea8dc9-81f4-47cc-98da-bd5b5e56efb6",
   "metadata": {},
   "outputs": [],
   "source": [
    "sdata[\"square_016um\"].obs[\"Cluster\"] = df[\"Cluster\"]"
   ]
  },
  {
   "cell_type": "markdown",
   "id": "87cc81e2-29f9-4dbf-87ba-05eb8f2cd3c6",
   "metadata": {},
   "source": [
    "Let's plot the clusters on one of the data crops we used before."
   ]
  },
  {
   "cell_type": "code",
   "execution_count": null,
   "id": "0a85b62a-8b8f-4891-92a8-de44f1e3fbf2",
   "metadata": {},
   "outputs": [],
   "source": [
    "# let convert circles to squares before making the plot\n",
    "name = \"Visium_HD_Mouse_Small_Intestine_square_016um\"\n",
    "sdata[name] = squares_from_circles(sdata[name])"
   ]
  },
  {
   "cell_type": "code",
   "execution_count": null,
   "id": "adda971f-9a32-43af-b216-10e78fb86731",
   "metadata": {},
   "outputs": [],
   "source": [
    "%%time\n",
    "crop0(sdata).pl.render_images(\"Visium_HD_Mouse_Small_Intestine_full_image\").pl.render_shapes(\n",
    "    \"Visium_HD_Mouse_Small_Intestine_square_016um\", color=\"Cluster\"\n",
    ").pl.show(coordinate_systems=\"global\", title=f\"bin_size=016µm\", figsize=(10, 10))"
   ]
  },
  {
   "cell_type": "markdown",
   "id": "1c039272-98f1-4ecc-81da-3b831ac6cfa2",
   "metadata": {},
   "source": [
    "## Interactive visualization with napari"
   ]
  },
  {
   "cell_type": "markdown",
   "id": "b4292efb-2e39-4c3f-9ecc-73078c21e239",
   "metadata": {},
   "source": [
    "### Vector-based visualization"
   ]
  },
  {
   "cell_type": "markdown",
   "id": "e71f3a2d-e285-41e3-99a5-b45ee7154163",
   "metadata": {},
   "source": [
    "To conclude the example here is a screenshot of `napari-spatialdata` used to visualize the data on 16µm bins. Currently `napari`'s performance is not optimized for the visualization of large collections of polygonal data (we are working on improving this together with the `napari` developers); this warning is displayed as a tooltip is the user hovers the mouse above the warning symbols in the bottom left."
   ]
  },
  {
   "attachments": {},
   "cell_type": "markdown",
   "id": "f25fb3e3-84fc-447d-bc22-5ae15a96736a",
   "metadata": {},
   "source": [
    "![image.png](attachments/napari_visium_hd.png)"
   ]
  },
  {
   "cell_type": "markdown",
   "id": "be833933-8331-49e7-a9da-7661b27340be",
   "metadata": {},
   "source": [
    "### Raster-based visualization"
   ]
  },
  {
   "cell_type": "markdown",
   "id": "f29cef67-8bc6-4009-b4ff-ac6b57b9ab16",
   "metadata": {},
   "source": [
    "To overcome the above limitations, you can proceed with the on-demand rasterization approach that we explained above, by simply selecting the `rasterized_002um`, `rasterized_008um` and `rasterized_002um` layers. Here are two animations showing this approach."
   ]
  },
  {
   "cell_type": "raw",
   "id": "0014c87e-eb9e-4c81-b364-78f9099cf526",
   "metadata": {},
   "source": [
    "from napari_spatialdata import Interactive\n",
    "\n",
    "Interactive(sdata)"
   ]
  },
  {
   "cell_type": "markdown",
   "id": "13f2661c-ed9b-4220-8547-8586b9fc2fea",
   "metadata": {},
   "source": [
    "The first shows the equivalence between the vector shapes and the rasterized version, in this case using the 16µm bins data."
   ]
  },
  {
   "cell_type": "markdown",
   "id": "18288a60-7ad8-4253-8c91-a9a6a8120db1",
   "metadata": {},
   "source": [
    "![image.png](attachments/napari_visium_hd_animation0.gif)"
   ]
  },
  {
   "cell_type": "markdown",
   "id": "8ed40e67-0135-444d-ad4a-cc17ac62e20f",
   "metadata": {},
   "source": [
    "The second showcases the perfomane of the viewer on the 2µm bins data."
   ]
  },
  {
   "cell_type": "markdown",
   "id": "60f4d644-6c08-411a-8707-32e5e1a8ca2c",
   "metadata": {},
   "source": [
    "![image.png](attachments/napari_visium_hd_animation1.gif)"
   ]
  }
 ],
 "metadata": {
  "kernelspec": {
   "display_name": "Python 3 (ipykernel)",
   "language": "python",
   "name": "python3"
  },
  "language_info": {
   "codemirror_mode": {
    "name": "ipython",
    "version": 3
   },
   "file_extension": ".py",
   "mimetype": "text/x-python",
   "name": "python",
   "nbconvert_exporter": "python",
   "pygments_lexer": "ipython3",
   "version": "3.10.13"
  }
 },
 "nbformat": 4,
 "nbformat_minor": 5
}
